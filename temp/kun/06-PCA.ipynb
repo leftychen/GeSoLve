{
 "cells": [
  {
   "cell_type": "markdown",
   "metadata": {
    "slideshow": {
     "slide_type": "slide"
    }
   },
   "source": [
    "<hr/>\n",
    "\n",
    "#Data Mining [EN.550.436]\n",
    "**Tamás Budavári** - budavari@jhu.edu <br/>\n",
    "**Class 6** - Sept 15, 2015\n",
    "\n",
    "- Principal Component Analysis\n",
    "- Lagrange multipliers\n",
    "- Explained variance \n",
    "\n",
    "<hr/>"
   ]
  },
  {
   "cell_type": "markdown",
   "metadata": {},
   "source": [
    "### Feedback\n",
    "\n",
    "- Anonymous voting on Doodle\n",
    "\n",
    "> Use any alias you like at\n",
    "\n",
    ">    http://goo.gl/C8Vz9c\n",
    "\n",
    "- Be honest to help me!"
   ]
  },
  {
   "cell_type": "markdown",
   "metadata": {},
   "source": [
    "### Linear Regression\n",
    "- A linear combination of known $\\phi_k(\\cdot)$ functions (basis functions)\n",
    "\n",
    ">$\\displaystyle f(x;\\boldsymbol{\\beta}) = \\sum_{k=1}^K \\beta_k\\, \\phi_k(x) $\n",
    "\n",
    "> It's a dot product\n",
    "\n",
    ">$\\displaystyle f(x;\\boldsymbol{\\beta}) = \\boldsymbol\\beta^T \\boldsymbol\\phi(x)$ \n",
    "\n",
    ">with $\\boldsymbol{\\beta}=(\\beta_1,\\dots,\\beta_K)^T$\n",
    "\n",
    "> or\n",
    "\n",
    ">$\\displaystyle f(x;\\boldsymbol{\\beta}) = \\boldsymbol{}X\\boldsymbol\\beta$\n",
    "\n",
    "> where $X_{ik} = \\phi_k(x_i)$\n",
    "\n",
    "\n",
    "\n"
   ]
  },
  {
   "cell_type": "markdown",
   "metadata": {},
   "source": [
    "### Method of Least Squares\n",
    "\n",
    "- At the optimum\n",
    "\n",
    ">$\\displaystyle \\hat\\beta = (X^T X)^{-1} X^T y $\n",
    "\n",
    "- Hat matrix\n",
    "\n",
    ">$\\hat{y} = X\\hat\\beta = H y$"
   ]
  },
  {
   "cell_type": "markdown",
   "metadata": {},
   "source": [
    "### Linear Combinations\n",
    "\n",
    "- Coefficients mix a given set of basis vectors, functions, images, shapes, ...\n",
    "\n",
    "\n",
    "> Fourier series\n",
    "\n",
    "<img src=files/Periodic_identity_function.gif width=400> \n",
    "<!--<img src=https://upload.wikimedia.org/wikipedia/commons/e/e8/Periodic_identity_function.gif width=400> -->\n",
    "\n",
    "> Discete Cosine Transform (JPEG) \n",
    "\n",
    "<img src=files/DCT_basis_thumb.gif width=200>\n",
    "<!--<img src=http://www.digitude.net/blog/wp-content/uploads/2010/07/DCT_basis_thumb.gif width=200>-->\n",
    "\n",
    "> Spherical Harmonics\n",
    "\n",
    "<img src=files/Spherical_Harmonics.png>\n",
    "<!--<img src=https://upload.wikimedia.org/wikipedia/commons/thumb/6/62/Spherical_Harmonics.png/300px-Spherical_Harmonics.png>-->\n",
    "\n",
    "\n",
    "- What is a good basis like?\n",
    "\n"
   ]
  },
  {
   "cell_type": "markdown",
   "metadata": {
    "slideshow": {
     "slide_type": "slide"
    }
   },
   "source": [
    "<h1><font color=\"darkblue\">Principal Component Analysis</font></h1>"
   ]
  },
  {
   "cell_type": "markdown",
   "metadata": {},
   "source": [
    "### Statistical Learning\n",
    "\n",
    ">|                | Supervised     |         Unsupervised     |\n",
    " |:---------------|:--------------:|:------------------------:|\n",
    " | **Discrete**   | Classification | Clustering               |   \n",
    " | **Continuous** | Regression     | Dimensionality Reduction |\n",
    "\n"
   ]
  },
  {
   "cell_type": "markdown",
   "metadata": {},
   "source": [
    "<img src=files/800px-GaussianScatterPCA.png width=300 align=left>"
   ]
  },
  {
   "cell_type": "markdown",
   "metadata": {},
   "source": [
    "### Directions of Maximum Variance\n",
    "\n",
    "- Let $X\\in\\mathbb{R}^N$ be a continuous random variable with 0 mean and covariance matrix $C$. What is the direction of maximum variance?\n",
    "\n",
    "> For any vector $a\\in\\mathbb{R}^N$ \n",
    "\n",
    "> $\\displaystyle \\mathbb{Var}[a^T X] = \\mathbb{E}\\left[(a^T X)(X^T a)\\right] = \\mathbb{E}\\left[a^T(XX^T)\\,a\\right] = a^T C\\,a$\n",
    "\n",
    "> We have to maximize this such that $a^2\\!=\\!1$"
   ]
  },
  {
   "cell_type": "markdown",
   "metadata": {},
   "source": [
    "### Constrained Optimization\n",
    "\n",
    "- **Lagrange multiplier**: extra term with new parameter $\\lambda$\n",
    "\n",
    "> $\\displaystyle  \\min_{a\\in{}\\mathbb{R}^N} \\left\\{a^T C\\,a - \\lambda\\,(a^2\\!-\\!1)\\right\\}$\n",
    "\n",
    "- Partial derivatives vanish at optimum\n",
    "\n",
    "> $\\displaystyle \\frac{\\partial}{\\partial\\lambda} \\rightarrow\\ \\  a^2\\!-\\!1 = 0\\ \\ $  (duh!)\n",
    "\n",
    "> $\\displaystyle \\frac{\\partial}{\\partial a_k} \\rightarrow\\ \\  $?"
   ]
  },
  {
   "cell_type": "markdown",
   "metadata": {},
   "source": [
    "### With indices\n",
    "\n",
    "\n",
    "> $\\displaystyle  \\sum_{i,j} a_i C_{ij} a_j - \\lambda\\,\\left(\\sum_i a_i^2 - 1\\right)$\n",
    "\n",
    "- Partial derivatives vanish at optimum\n",
    "\n",
    "> $\\displaystyle \\sum_{i,j} \\frac{\\partial a_i}{\\partial a_k} C_{ij} a_j + \\sum_{i,j} a_i C_{ij} \\frac{\\partial a_j}{\\partial a_k} - 2\\lambda\\,\\left(\\sum_i a_i \\frac{\\partial a_i}{\\partial a_k}\\right) = 0$ \n",
    "\n",
    "> $\\displaystyle \\sum_{i,j} \\delta_{ik} C_{ij} a_j + \\sum_{i,j} a_i C_{ij} \\delta_{jk} - 2\\lambda\\,\\left(\\sum_i a_i \\delta_{ik}\\right) = 0$ \n",
    "\n",
    "> $\\displaystyle \\sum_{j} C_{kj} a_j + \\sum_{i} a_i C_{ik}  - 2\\lambda\\,a_k = 0$ "
   ]
  },
  {
   "cell_type": "markdown",
   "metadata": {},
   "source": [
    "### And back again...\n",
    "\n",
    "- With vectors and matrices\n",
    "\n",
    "> $\\displaystyle  Ca + C^Ta - 2\\lambda a = 0$\n",
    "\n",
    "> but $C$ is symmetric \n",
    "\n",
    "> $\\displaystyle  Ca = \\lambda a $\n",
    "\n",
    "- Eigenproblem !!"
   ]
  },
  {
   "cell_type": "markdown",
   "metadata": {},
   "source": [
    "### Result\n",
    "\n",
    "- The value of maximum variance is\n",
    "\n",
    "> $\\displaystyle  a^TCa = a^T \\lambda a = \\lambda a^Ta = \\lambda$\n",
    "\n",
    "> the largest eigenvalue $\\lambda_1$\n",
    "\n",
    "- The direction of maximum variance is the corresponding eigenvector $a_1$\n",
    "\n",
    "> $\\displaystyle  Ca_1 = \\lambda_1 a_1 $\n",
    "\n",
    "- This is the **1st Principal Component** \n",
    "\n",
    "\n"
   ]
  },
  {
   "cell_type": "markdown",
   "metadata": {},
   "source": [
    "### 2nd Principal Component\n",
    "\n",
    "- Direction of largest variance uncorrelated to 1st PC\n",
    "\n",
    "> $\\displaystyle  \\min_{a\\in{}\\mathbb{R}^N} \\left\\{a^T C\\,a - \\lambda\\,(a^2\\!-\\!1) - \\lambda'(a^T C\\,a_1) \\right\\}$\n",
    "\n",
    "- Partial derivatives vanish at optimum\n",
    "\n",
    "> $\\displaystyle 2Ca - 2\\lambda{}a-\\lambda'Ca_1 = 0$"
   ]
  },
  {
   "cell_type": "markdown",
   "metadata": {},
   "source": [
    "### Result\n",
    "\n",
    "- Multiply by $a_1^T\\cdot$\n",
    "\n",
    "> $\\displaystyle 2a_1^TCa - 2a_1^T\\lambda{}a-a_1^T\\lambda'Ca_1 = 0$\n",
    "\n",
    "> $\\displaystyle 0 - 0 - \\lambda'\\lambda_1 = 0 \\ \\ \\rightarrow\\ \\  \\lambda'=0$\n",
    "\n",
    "- Eigenproblem \n",
    "\n",
    "> $\\displaystyle  Ca = \\lambda a $\n",
    "\n",
    "- Solution $\\lambda_2$ and $a_2$"
   ]
  },
  {
   "cell_type": "markdown",
   "metadata": {},
   "source": [
    "### PCA \n",
    "\n",
    "- In general\n",
    "\n",
    "> Let $\\lambda_1\\geq\\lambda_2\\geq\\dots\\geq\\lambda_N$ be the eigenvalues of $C$ and $\\hat{e}_1,\\dots,\\hat{e}_N$ the corresponding eigenvectors\n",
    "\n",
    "> $\\displaystyle  C = \\sum_{k=1}^N\\ \\lambda_k\\left(\\hat{e}_k\\,\\hat{e}_k^T\\right) $\n",
    "\n",
    "> With diagonal $\\Lambda$ matrix of the eigenvalues and an $E$ matrix of $[\\hat{e}_1, \\dots, \\hat{e}_N]$\n",
    "\n",
    "> $\\displaystyle  C = E\\ \\Lambda\\ E^T$\n",
    "\n",
    "\n",
    "- The eigenvectors of largest eigenvalues capture the most variance\n",
    "\n",
    "> If keeping only $K<N$ eigenvectors, the best approximation is taking the first $K$ PCs\n",
    "\n",
    "> $\\displaystyle  C \\approx \\sum_{k=1}^K\\ \\lambda_k\\left(\\hat{e}_k\\,\\hat{e}_k^T\\right) =  E_K\\Lambda_KE_K^T$\n",
    "\n",
    "\n",
    "\n"
   ]
  },
  {
   "cell_type": "markdown",
   "metadata": {},
   "source": [
    "### Detour: Adding Variances\n",
    "\n",
    "- If $X$ and $Y$ random variables are independent and $Z=X\\pm{}Y$, then \n",
    "\n",
    "> $\\mathbb{Var}[Z]=\\mathbb{Var}[X]+\\mathbb{Var}[Y]$\n",
    "\n",
    "\n",
    "- Proof\n",
    "\n",
    "> $\\mathbb{Var}[Z]=\\mathbb{E}\\big[(Z-\\mu_Z)^2\\big] $\n",
    "\n",
    "> $\\ \\ =\\mathbb{E}\\big[Z^2\\big] - 2\\mathbb{E}[Z]\\mu_Z + \\mu_{z}^2 $\n",
    "\n",
    "> $\\ \\ =\\mathbb{E}\\big[Z^2\\big] - \\mu_{z}^2 $\n",
    "\n",
    "> $\\ \\ =\\mathbb{E}\\big[(X\\pm{}Y)^2\\big] - \\left(\\mu_{X\\pm{}Y}\\right)^2 $\n",
    "\n",
    "> $\\ \\ =\\mathbb{E}\\big[(X\\pm{}Y)^2\\big] - \\left(\\mu_{X}\\pm{}\\mu_Y\\right)^2 $\n",
    "\n",
    "> $\\ \\ =\\mathbb{E}\\big[X^2\\pm{}2XY+Y^2\\big] - \\left(\\mu_{X}^2\\pm{}2\\mu_X\\mu_Y+\\mu_Y^2\\right)$\n",
    "\n",
    "> $\\ \\ = \\mathbb{E}\\big[X^2\\big] \\pm 2\\,\\mathbb{E}\\big[XY\\big] + \\mathbb{E}\\big[Y^2\\big] - \\left(\\mu_{X}^2\\pm{}2\\mu_X\\mu_Y+\\mu_Y^2\\right)$\n",
    "\n",
    "> $\\ \\ =\\mathbb{E}\\big[X^2\\big]-\\mu_X^2 +\\mathbb{E}\\big[Y^2\\big]-\\mu_Y^2 \\pm 2\\left(\\mathbb{E}\\big[XY\\big] -\\mu_X\\mu_Y\\right) $\n",
    "\n",
    "\n",
    "> $\\ \\ =\\mathbb{Var}[X]+\\mathbb{Var}[Y]\\pm 0 $\n",
    "\n",
    "\n",
    "\n",
    "\n"
   ]
  },
  {
   "cell_type": "markdown",
   "metadata": {},
   "source": [
    "### New Coordiante System\n",
    "\n",
    "- The $E$ matrix of eigenvectors is a rotation, $E\\,E^T = I$\n",
    "\n",
    "> $\\displaystyle  Z = E^T\\, X $\n",
    "\n",
    "\n",
    "- A truncated set of eigenvectors $E_K$ defines a projection\n",
    "\n",
    "> $\\displaystyle  Z_K = E_K^T\\, X $\n",
    "\n",
    "> and\n",
    "\n",
    "> $\\displaystyle  X_K = E_K E_K^T\\, X = P_K\\,X $\n",
    "\n",
    "\n"
   ]
  },
  {
   "cell_type": "markdown",
   "metadata": {},
   "source": [
    "### Detour: Projections\n",
    "\n",
    "- If the square of a matrix is equal to itself\n",
    "\n",
    "> $\\displaystyle  P^2 = P $\n",
    "\n",
    "- For example, projecting on the $\\hat{e}$ unit vector\n",
    "\n",
    "<img src=files/Y7Gx8.png align=right width=250>\n",
    "\n",
    "> Scalar times vector\n",
    "\n",
    "> $\\displaystyle  r' = \\hat{e}\\left(\\hat{e}^T r\\right) = \\hat{e} \\beta_r$\n",
    "\n",
    "> Or  projection of vector $r$\n",
    "\n",
    "> $\\displaystyle  r' = \\left(\\hat{e}\\,\\hat{e}^T\\right)r = P\\,r$\n",
    "\n",
    "\n"
   ]
  },
  {
   "cell_type": "markdown",
   "metadata": {},
   "source": [
    "### Again\n",
    "\n",
    "- The eigenvectors of largest eigenvalues capture the most variance\n",
    "\n",
    "> $\\displaystyle  C \\approx C_K = \\sum_{k=1}^K\\ \\lambda_k\\left(\\hat{e}_k\\,\\hat{e}_k^T\\right) = \\sum_{k=1}^K\\ \\lambda_k\\,P_k$\n",
    "\n",
    "- And the remaining eigenvectors span the subspace with the least variance\n",
    "\n",
    "> $\\displaystyle  C - C_K = %\\sum_{l=K+1}^N\\ \\lambda_l\\left(\\hat{e}_l\\,\\hat{e}_l^T\\right) =\n",
    "\\sum_{l=K+1}^N\\ \\lambda_l\\,P_l$\n"
   ]
  },
  {
   "cell_type": "markdown",
   "metadata": {},
   "source": [
    "### Samples\n",
    "\n",
    "- Set of $N$-vectors with expectation value (or average, cf. Bessel correction) 0 arranged in $X=\\left[x_1, x_2, \\dots\\right]$ \n",
    "\n",
    "> Sample covariance matrix is\n",
    "\n",
    ">$\\displaystyle C \\propto X X^T = \\sum_i x_i x_i^T$\n",
    "\n",
    "- Singular Value Decomposition (SVD)\n",
    "\n",
    ">$\\displaystyle X = U W V^T$\n",
    "\n",
    "> where $U^TU=I$, $W$ is diagonal, and $V^TV=I$\n",
    "\n",
    "- Hence\n",
    "\n",
    ">$\\displaystyle C \\propto UWV^T\\ VWU^T = U W^2 U^T$\n",
    "\n",
    "> So if $C=E\\Lambda E^T$, then $E = U$ and $ \\Lambda \\propto W^2$\n",
    "\n"
   ]
  },
  {
   "cell_type": "code",
   "execution_count": 2,
   "metadata": {
    "collapsed": false
   },
   "outputs": [
    {
     "name": "stdout",
     "output_type": "stream",
     "text": [
      "Populating the interactive namespace from numpy and matplotlib\n"
     ]
    },
    {
     "name": "stderr",
     "output_type": "stream",
     "text": [
      "WARNING: pylab import has clobbered these variables: ['norm']\n",
      "`%matplotlib` prevents importing * from pylab and numpy\n"
     ]
    }
   ],
   "source": [
    "%pylab inline"
   ]
  },
  {
   "cell_type": "markdown",
   "metadata": {},
   "source": [
    "### Random Sample from Bivariate Normal \n",
    "\n",
    "- See previous lecture"
   ]
  },
  {
   "cell_type": "code",
   "execution_count": 3,
   "metadata": {
    "collapsed": false
   },
   "outputs": [
    {
     "name": "stdout",
     "output_type": "stream",
     "text": [
      "Average\n",
      "[[ 1.67010483]\n",
      " [ 3.43703007]]\n",
      "Covariance\n",
      "[[ 13.04682737  11.34309787]\n",
      " [ 11.34309787  11.28168218]]\n"
     ]
    },
    {
     "data": {
      "image/png": "[encoded data removed]",
      "text/plain": [
       "<matplotlib.figure.Figure at 0x1074540d0>"
      ]
     },
     "metadata": {},
     "output_type": "display_data"
    }
   ],
   "source": [
    "from scipy.stats import norm\n",
    "# generate many 2D (column) vectors\n",
    "S = norm.rvs(0,1,(2,20))\n",
    "S[0,:] *= 4  # scale axis 0\n",
    "f = +pi/4    # rotate by 45 degrees\n",
    "R = array([[cos(f), -sin(f)],\n",
    "           [sin(f),  cos(f)]]) \n",
    "X = R.dot(S)\n",
    "X += np.array([[1],[3]]) # shift\n",
    "\n",
    "figure(figsize=(5,5)); xlim(-15,15); ylim(-15,15);\n",
    "plot(X[0,:],X[1,:],'o',alpha=0.9)\n",
    "\n",
    "# subtract sample mean\n",
    "avg = mean(X, axis=1).reshape(X[:,1].size,1)\n",
    "X -= avg\n",
    "# sample covariance matrix\n",
    "C = X.dot(X.T) / (X[0,:].size-1) \n",
    "print \"Average\\n\", avg\n",
    "print \"Covariance\\n\", C"
   ]
  },
  {
   "cell_type": "code",
   "execution_count": 4,
   "metadata": {
    "collapsed": false
   },
   "outputs": [
    {
     "data": {
      "text/plain": [
       "(array([[ 0.73402063, -0.67912717],\n",
       "        [ 0.67912717,  0.73402063]]), array([ 23.541636  ,   0.78687355]))"
      ]
     },
     "execution_count": 4,
     "metadata": {},
     "output_type": "execute_result"
    }
   ],
   "source": [
    "L, E = np.linalg.eig(C)\n",
    "E, L"
   ]
  },
  {
   "cell_type": "code",
   "execution_count": 5,
   "metadata": {
    "collapsed": false
   },
   "outputs": [
    {
     "data": {
      "text/plain": [
       "(array([[-0.73402063, -0.67912717],\n",
       "        [-0.67912717,  0.73402063]]), array([ 23.541636  ,   0.78687355]))"
      ]
     },
     "execution_count": 5,
     "metadata": {},
     "output_type": "execute_result"
    }
   ],
   "source": [
    "E, L, E_same = np.linalg.svd(C)\n",
    "E, L"
   ]
  },
  {
   "cell_type": "code",
   "execution_count": 6,
   "metadata": {
    "collapsed": false
   },
   "outputs": [
    {
     "data": {
      "text/plain": [
       "array([[  1.00000000e+00,  -1.66533454e-16],\n",
       "       [ -1.66533454e-16,   1.00000000e+00]])"
      ]
     },
     "execution_count": 6,
     "metadata": {},
     "output_type": "execute_result"
    }
   ],
   "source": [
    "E.dot(E.T)"
   ]
  },
  {
   "cell_type": "code",
   "execution_count": 7,
   "metadata": {
    "collapsed": false
   },
   "outputs": [
    {
     "data": {
      "text/plain": [
       "True"
      ]
     },
     "execution_count": 7,
     "metadata": {},
     "output_type": "execute_result"
    }
   ],
   "source": [
    "np.allclose( E.T, np.linalg.inv(E) )"
   ]
  },
  {
   "cell_type": "code",
   "execution_count": 8,
   "metadata": {
    "collapsed": false
   },
   "outputs": [
    {
     "data": {
      "text/plain": [
       "(array([[-0.73402063, -0.67912717],\n",
       "        [-0.67912717,  0.73402063]]), array([ 23.541636  ,   0.78687355]))"
      ]
     },
     "execution_count": 8,
     "metadata": {},
     "output_type": "execute_result"
    }
   ],
   "source": [
    "U, W, V = np.linalg.svd(X)\n",
    "U, W**2 / (X[0,:].size-1)"
   ]
  },
  {
   "cell_type": "code",
   "execution_count": 9,
   "metadata": {
    "collapsed": false
   },
   "outputs": [
    {
     "data": {
      "text/plain": [
       "[True, True]"
      ]
     },
     "execution_count": 9,
     "metadata": {},
     "output_type": "execute_result"
    }
   ],
   "source": [
    "[ np.allclose( U.dot(U.T), np.eye(U[:,0].size) ), \n",
    "  np.allclose( V.dot(V.T), np.eye(V[:,0].size) )  ]"
   ]
  },
  {
   "cell_type": "code",
   "execution_count": 10,
   "metadata": {
    "collapsed": false
   },
   "outputs": [
    {
     "data": {
      "text/plain": [
       "(array([[-0.73402063,  0.67912717],\n",
       "        [-0.67912717, -0.73402063]]), array([ 22.3645542 ,   0.74752987]))"
      ]
     },
     "execution_count": 10,
     "metadata": {},
     "output_type": "execute_result"
    }
   ],
   "source": [
    "from sklearn import decomposition\n",
    "pca = decomposition.PCA(n_components=X[:,0].size)\n",
    "pca.fit(X.T) # different convention !!!\n",
    "# pca.transform(X.T)\n",
    "pca.components_.T, pca.explained_variance_"
   ]
  },
  {
   "cell_type": "code",
   "execution_count": null,
   "metadata": {
    "collapsed": true
   },
   "outputs": [],
   "source": []
  }
 ],
 "metadata": {
  "kernelspec": {
   "display_name": "Python 2",
   "language": "python",
   "name": "python2"
  },
  "language_info": {
   "codemirror_mode": {
    "name": "ipython",
    "version": 2
   },
   "file_extension": ".py",
   "mimetype": "text/x-python",
   "name": "python",
   "nbconvert_exporter": "python",
   "pygments_lexer": "ipython2",
   "version": "2.7.10"
  }
 },
 "nbformat": 4,
 "nbformat_minor": 0
}
